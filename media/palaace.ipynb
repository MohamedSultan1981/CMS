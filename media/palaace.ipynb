{
 "cells": [
  {
   "cell_type": "markdown",
   "metadata": {},
   "source": [
    "## heading"
   ]
  },
  {
   "cell_type": "code",
   "execution_count": 1,
   "metadata": {},
   "outputs": [],
   "source": [
    "import pandas as pd \n",
    "import seaborn as sns\n",
    "import matplotlib.pyplot as plt \n",
    "import datetime as dt\n",
    "import numpy as np\n",
    "%matplotlib inline  \n"
   ]
  },
  {
   "cell_type": "markdown",
   "metadata": {},
   "source": [
    "notes to research \n",
    "* duration hist \n",
    "* compare between station data and bicycle data\n",
    "* future survays\n",
    "* distance vs duration\n",
    "* pd.cut\n",
    "* heat map\n",
    "* interqurtile ranges\n",
    "* "
   ]
  },
  {
   "cell_type": "code",
   "execution_count": 2,
   "metadata": {},
   "outputs": [],
   "source": [
    "# Load your data and print out a few lines. Perform operations to inspect data\n",
    "#   types and look for instances of missing or possibly errant data.\n",
    "PublicTransport=pd.read_excel(r'D:\\drop\\Dropbox\\palaace\\TrafficData-20210409T115333Z-001\\TrafficData\\Public_transportation_infrastructure.xlsx',names=[\"Name\",\"id\",\"latitude\",\"longitude\",\"quay_id\",\"quay_name\",\"stopType\"])\n"
   ]
  },
  {
   "cell_type": "code",
   "execution_count": 3,
   "metadata": {
    "scrolled": true
   },
   "outputs": [
    {
     "data": {
      "text/html": [
       "<div>\n",
       "<style scoped>\n",
       "    .dataframe tbody tr th:only-of-type {\n",
       "        vertical-align: middle;\n",
       "    }\n",
       "\n",
       "    .dataframe tbody tr th {\n",
       "        vertical-align: top;\n",
       "    }\n",
       "\n",
       "    .dataframe thead th {\n",
       "        text-align: right;\n",
       "    }\n",
       "</style>\n",
       "<table border=\"1\" class=\"dataframe\">\n",
       "  <thead>\n",
       "    <tr style=\"text-align: right;\">\n",
       "      <th></th>\n",
       "      <th>id</th>\n",
       "      <th>latitude</th>\n",
       "      <th>longitude</th>\n",
       "      <th>quay_id</th>\n",
       "      <th>quay_name</th>\n",
       "      <th>stopType</th>\n",
       "    </tr>\n",
       "  </thead>\n",
       "  <tbody>\n",
       "    <tr>\n",
       "      <th>2467</th>\n",
       "      <td>UXVheUF0RGlzdGFuY2U6MTIyNDI7TlNSOlF1YXk6NjgyOQ</td>\n",
       "      <td>59.917591</td>\n",
       "      <td>10.590949</td>\n",
       "      <td>NSR:Quay:6829</td>\n",
       "      <td>Bekkestua</td>\n",
       "      <td>regular</td>\n",
       "    </tr>\n",
       "    <tr>\n",
       "      <th>2468</th>\n",
       "      <td>UXVheUF0RGlzdGFuY2U6MTIyNDI7TlNSOlF1YXk6NjgyOQ</td>\n",
       "      <td>59.917591</td>\n",
       "      <td>10.590949</td>\n",
       "      <td>NSR:Quay:6829</td>\n",
       "      <td>Bekkestua</td>\n",
       "      <td>regular</td>\n",
       "    </tr>\n",
       "    <tr>\n",
       "      <th>4076</th>\n",
       "      <td>UXVheUF0RGlzdGFuY2U6MjM3NzM7TlNSOlF1YXk6OTI3MQ</td>\n",
       "      <td>59.758226</td>\n",
       "      <td>10.841919</td>\n",
       "      <td>NSR:Quay:9271</td>\n",
       "      <td>Langhushallen</td>\n",
       "      <td>regular</td>\n",
       "    </tr>\n",
       "    <tr>\n",
       "      <th>4077</th>\n",
       "      <td>UXVheUF0RGlzdGFuY2U6MjM3NzM7TlNSOlF1YXk6OTI3MQ</td>\n",
       "      <td>59.758226</td>\n",
       "      <td>10.841919</td>\n",
       "      <td>NSR:Quay:9271</td>\n",
       "      <td>Langhushallen</td>\n",
       "      <td>regular</td>\n",
       "    </tr>\n",
       "  </tbody>\n",
       "</table>\n",
       "</div>"
      ],
      "text/plain": [
       "                                                  id   latitude  longitude  \\\n",
       "2467  UXVheUF0RGlzdGFuY2U6MTIyNDI7TlNSOlF1YXk6NjgyOQ  59.917591  10.590949   \n",
       "2468  UXVheUF0RGlzdGFuY2U6MTIyNDI7TlNSOlF1YXk6NjgyOQ  59.917591  10.590949   \n",
       "4076  UXVheUF0RGlzdGFuY2U6MjM3NzM7TlNSOlF1YXk6OTI3MQ  59.758226  10.841919   \n",
       "4077  UXVheUF0RGlzdGFuY2U6MjM3NzM7TlNSOlF1YXk6OTI3MQ  59.758226  10.841919   \n",
       "\n",
       "            quay_id      quay_name stopType  \n",
       "2467  NSR:Quay:6829      Bekkestua  regular  \n",
       "2468  NSR:Quay:6829      Bekkestua  regular  \n",
       "4076  NSR:Quay:9271  Langhushallen  regular  \n",
       "4077  NSR:Quay:9271  Langhushallen  regular  "
      ]
     },
     "execution_count": 3,
     "metadata": {},
     "output_type": "execute_result"
    }
   ],
   "source": [
    "# do some data cleaning : drop nan , remove some insignificant features like id,latitude,longitude,quay_id,\n",
    "PublicTransport.drop([\"Name\"],axis=1,inplace=True)\n",
    "PublicTransport[PublicTransport.duplicated(keep=False)]"
   ]
  },
  {
   "cell_type": "code",
   "execution_count": 4,
   "metadata": {},
   "outputs": [],
   "source": [
    "#the duplicated data is only 2 records so we can drop them\n",
    "PublicTransport.drop_duplicates(inplace=True)"
   ]
  },
  {
   "cell_type": "code",
   "execution_count": 5,
   "metadata": {
    "scrolled": false
   },
   "outputs": [
    {
     "data": {
      "text/plain": [
       "regular    4220\n",
       "Name: stopType, dtype: int64"
      ]
     },
     "execution_count": 5,
     "metadata": {},
     "output_type": "execute_result"
    }
   ],
   "source": [
    "PublicTransport[\"stopType\"].value_counts()"
   ]
  },
  {
   "cell_type": "code",
   "execution_count": 6,
   "metadata": {},
   "outputs": [],
   "source": [
    "#we can drop stop Type and quay radiusID and ID , longitude , latitude\n",
    "PublicTransport.drop([\"id\",\"latitude\",\"longitude\",\"quay_id\",\"stopType\"],axis=1,inplace=True)"
   ]
  },
  {
   "cell_type": "code",
   "execution_count": 7,
   "metadata": {
    "scrolled": true
   },
   "outputs": [
    {
     "data": {
      "text/html": [
       "<div>\n",
       "<style scoped>\n",
       "    .dataframe tbody tr th:only-of-type {\n",
       "        vertical-align: middle;\n",
       "    }\n",
       "\n",
       "    .dataframe tbody tr th {\n",
       "        vertical-align: top;\n",
       "    }\n",
       "\n",
       "    .dataframe thead th {\n",
       "        text-align: right;\n",
       "    }\n",
       "</style>\n",
       "<table border=\"1\" class=\"dataframe\">\n",
       "  <thead>\n",
       "    <tr style=\"text-align: right;\">\n",
       "      <th></th>\n",
       "      <th>quay_name</th>\n",
       "    </tr>\n",
       "  </thead>\n",
       "  <tbody>\n",
       "    <tr>\n",
       "      <th>0</th>\n",
       "      <td>Brugata</td>\n",
       "    </tr>\n",
       "    <tr>\n",
       "      <th>1</th>\n",
       "      <td>Brugata</td>\n",
       "    </tr>\n",
       "    <tr>\n",
       "      <th>2</th>\n",
       "      <td>Brugata</td>\n",
       "    </tr>\n",
       "    <tr>\n",
       "      <th>3</th>\n",
       "      <td>Brugata</td>\n",
       "    </tr>\n",
       "    <tr>\n",
       "      <th>4</th>\n",
       "      <td>Hammersborggata</td>\n",
       "    </tr>\n",
       "  </tbody>\n",
       "</table>\n",
       "</div>"
      ],
      "text/plain": [
       "         quay_name\n",
       "0          Brugata\n",
       "1          Brugata\n",
       "2          Brugata\n",
       "3          Brugata\n",
       "4  Hammersborggata"
      ]
     },
     "execution_count": 7,
     "metadata": {},
     "output_type": "execute_result"
    }
   ],
   "source": [
    "PublicTransport.head()"
   ]
  },
  {
   "cell_type": "code",
   "execution_count": 8,
   "metadata": {},
   "outputs": [],
   "source": [
    "PublicTransport[\"quay_name\"]=PublicTransport[\"quay_name\"].astype('category')"
   ]
  },
  {
   "cell_type": "code",
   "execution_count": 9,
   "metadata": {
    "scrolled": true
   },
   "outputs": [
    {
     "data": {
      "image/png": "[encoded data removed]",
      "text/plain": [
       "<Figure size 720x720 with 1 Axes>"
      ]
     },
     "metadata": {
      "needs_background": "light"
     },
     "output_type": "display_data"
    }
   ],
   "source": [
    "PublicTransport.groupby(\"quay_name\").size().nlargest(5).plot(kind = \"bar\",figsize=(10,10))\n",
    "plt.ylabel('Number of stations')\n",
    "plt.xlabel('Location')\n",
    "plt.xticks(rotation=\"70\")\n",
    "\n",
    "plt.title('Number of stations per location')\n",
    "plt.show()"
   ]
  },
  {
   "cell_type": "code",
   "execution_count": 10,
   "metadata": {},
   "outputs": [],
   "source": [
    "\n",
    "def haversine_vectorize(lon1, lat1, lon2, lat2):\n",
    "\n",
    "    lon1, lat1, lon2, lat2 = map(np.radians, [lon1, lat1, lon2, lat2])\n",
    "\n",
    "    newlon = lon2 - lon1\n",
    "    newlat = lat2 - lat1\n",
    "\n",
    "    haver_formula = np.sin(newlat/2.0)**2 + np.cos(lat1) * np.cos(lat2) * np.sin(newlon/2.0)**2\n",
    "\n",
    "    dist = 2 * np.arcsin(np.sqrt(haver_formula ))\n",
    "    km = 6367 * dist #6367 for distance in KM for miles use 3958\n",
    "    return km"
   ]
  },
  {
   "cell_type": "code",
   "execution_count": 11,
   "metadata": {
    "scrolled": true
   },
   "outputs": [
    {
     "name": "stderr",
     "output_type": "stream",
     "text": [
      "C:\\ProgramData\\Anaconda3\\lib\\site-packages\\pandas\\io\\excel.py:520: UserWarning: The 'parse_dates=True' keyword of read_excel was provided without an 'index_col' keyword value.\n",
      "  warn(\"The 'parse_dates=True' keyword of read_excel was provided\"\n"
     ]
    }
   ],
   "source": [
    "bicycle_df= pd.concat(pd.read_excel(r'D:\\drop\\Dropbox\\palaace\\TrafficData-20210409T115333Z-001\\TrafficData\\Bysykkeloversikt_2019 - Copy.xlsx', sheet_name=None,parse_dates=True),ignore_index=True)\n"
   ]
  },
  {
   "cell_type": "code",
   "execution_count": 12,
   "metadata": {
    "scrolled": true
   },
   "outputs": [
    {
     "data": {
      "text/html": [
       "<div>\n",
       "<style scoped>\n",
       "    .dataframe tbody tr th:only-of-type {\n",
       "        vertical-align: middle;\n",
       "    }\n",
       "\n",
       "    .dataframe tbody tr th {\n",
       "        vertical-align: top;\n",
       "    }\n",
       "\n",
       "    .dataframe thead th {\n",
       "        text-align: right;\n",
       "    }\n",
       "</style>\n",
       "<table border=\"1\" class=\"dataframe\">\n",
       "  <thead>\n",
       "    <tr style=\"text-align: right;\">\n",
       "      <th></th>\n",
       "      <th>started_at</th>\n",
       "      <th>ended_at</th>\n",
       "      <th>duration</th>\n",
       "      <th>start_station_id</th>\n",
       "      <th>start_station_name</th>\n",
       "      <th>start_station_description</th>\n",
       "      <th>start_station_latitude</th>\n",
       "      <th>start_station_longitude</th>\n",
       "      <th>end_station_id</th>\n",
       "      <th>end_station_name</th>\n",
       "      <th>end_station_description</th>\n",
       "      <th>end_station_latitude</th>\n",
       "      <th>end_station_longitude</th>\n",
       "    </tr>\n",
       "  </thead>\n",
       "  <tbody>\n",
       "    <tr>\n",
       "      <th>0</th>\n",
       "      <td>2019-04-02 22:18:47.926000+00:00</td>\n",
       "      <td>2019-04-02 22:24:25.427000+00:00</td>\n",
       "      <td>337</td>\n",
       "      <td>401</td>\n",
       "      <td>Schous plass</td>\n",
       "      <td>nærmest Thorvald Meyers gate</td>\n",
       "      <td>59.920259</td>\n",
       "      <td>10.760629</td>\n",
       "      <td>381</td>\n",
       "      <td>Grønlands torg</td>\n",
       "      <td>ved Tøyenbekken</td>\n",
       "      <td>59.912520</td>\n",
       "      <td>10.762240</td>\n",
       "    </tr>\n",
       "    <tr>\n",
       "      <th>1</th>\n",
       "      <td>2019-04-02 22:25:54.203000+00:00</td>\n",
       "      <td>2019-04-02 22:27:36.114000+00:00</td>\n",
       "      <td>101</td>\n",
       "      <td>556</td>\n",
       "      <td>Pilestredet</td>\n",
       "      <td>ved Sporveisgata</td>\n",
       "      <td>59.926224</td>\n",
       "      <td>10.729625</td>\n",
       "      <td>556</td>\n",
       "      <td>Pilestredet</td>\n",
       "      <td>ved Sporveisgata</td>\n",
       "      <td>59.926224</td>\n",
       "      <td>10.729625</td>\n",
       "    </tr>\n",
       "    <tr>\n",
       "      <th>2</th>\n",
       "      <td>2019-04-02 22:26:39.308000+00:00</td>\n",
       "      <td>2019-04-02 22:31:59.445000+00:00</td>\n",
       "      <td>320</td>\n",
       "      <td>561</td>\n",
       "      <td>Kirkeveien</td>\n",
       "      <td>nord for Gørbitz' gate</td>\n",
       "      <td>59.933558</td>\n",
       "      <td>10.726426</td>\n",
       "      <td>471</td>\n",
       "      <td>Marienlyst</td>\n",
       "      <td>i Suhms gate</td>\n",
       "      <td>59.932454</td>\n",
       "      <td>10.721769</td>\n",
       "    </tr>\n",
       "    <tr>\n",
       "      <th>3</th>\n",
       "      <td>2019-04-03 03:09:58.992000+00:00</td>\n",
       "      <td>2019-04-03 03:12:00.589000+00:00</td>\n",
       "      <td>121</td>\n",
       "      <td>393</td>\n",
       "      <td>Hans Nielsen Hauges plass</td>\n",
       "      <td>Mellom Åsengata og Nordkappgata</td>\n",
       "      <td>59.939244</td>\n",
       "      <td>10.774319</td>\n",
       "      <td>393</td>\n",
       "      <td>Hans Nielsen Hauges plass</td>\n",
       "      <td>Mellom Åsengata og Nordkappgata</td>\n",
       "      <td>59.939244</td>\n",
       "      <td>10.774319</td>\n",
       "    </tr>\n",
       "    <tr>\n",
       "      <th>4</th>\n",
       "      <td>2019-04-03 03:10:02.415000+00:00</td>\n",
       "      <td>2019-04-03 03:14:44.537000+00:00</td>\n",
       "      <td>282</td>\n",
       "      <td>597</td>\n",
       "      <td>Fredensborg</td>\n",
       "      <td>ved rundkjøringen</td>\n",
       "      <td>59.920995</td>\n",
       "      <td>10.750358</td>\n",
       "      <td>557</td>\n",
       "      <td>Akersgata</td>\n",
       "      <td>ved Grensen</td>\n",
       "      <td>59.914197</td>\n",
       "      <td>10.742883</td>\n",
       "    </tr>\n",
       "  </tbody>\n",
       "</table>\n",
       "</div>"
      ],
      "text/plain": [
       "                         started_at                          ended_at  \\\n",
       "0  2019-04-02 22:18:47.926000+00:00  2019-04-02 22:24:25.427000+00:00   \n",
       "1  2019-04-02 22:25:54.203000+00:00  2019-04-02 22:27:36.114000+00:00   \n",
       "2  2019-04-02 22:26:39.308000+00:00  2019-04-02 22:31:59.445000+00:00   \n",
       "3  2019-04-03 03:09:58.992000+00:00  2019-04-03 03:12:00.589000+00:00   \n",
       "4  2019-04-03 03:10:02.415000+00:00  2019-04-03 03:14:44.537000+00:00   \n",
       "\n",
       "   duration  start_station_id         start_station_name  \\\n",
       "0       337               401               Schous plass   \n",
       "1       101               556                Pilestredet   \n",
       "2       320               561                 Kirkeveien   \n",
       "3       121               393  Hans Nielsen Hauges plass   \n",
       "4       282               597                Fredensborg   \n",
       "\n",
       "         start_station_description  start_station_latitude  \\\n",
       "0     nærmest Thorvald Meyers gate               59.920259   \n",
       "1                 ved Sporveisgata               59.926224   \n",
       "2           nord for Gørbitz' gate               59.933558   \n",
       "3  Mellom Åsengata og Nordkappgata               59.939244   \n",
       "4                ved rundkjøringen               59.920995   \n",
       "\n",
       "   start_station_longitude  end_station_id           end_station_name  \\\n",
       "0                10.760629             381             Grønlands torg   \n",
       "1                10.729625             556                Pilestredet   \n",
       "2                10.726426             471                 Marienlyst   \n",
       "3                10.774319             393  Hans Nielsen Hauges plass   \n",
       "4                10.750358             557                  Akersgata   \n",
       "\n",
       "           end_station_description  end_station_latitude  \\\n",
       "0                  ved Tøyenbekken             59.912520   \n",
       "1                 ved Sporveisgata             59.926224   \n",
       "2                     i Suhms gate             59.932454   \n",
       "3  Mellom Åsengata og Nordkappgata             59.939244   \n",
       "4                      ved Grensen             59.914197   \n",
       "\n",
       "   end_station_longitude  \n",
       "0              10.762240  \n",
       "1              10.729625  \n",
       "2              10.721769  \n",
       "3              10.774319  \n",
       "4              10.742883  "
      ]
     },
     "execution_count": 12,
     "metadata": {},
     "output_type": "execute_result"
    }
   ],
   "source": [
    "bicycle_df.head()"
   ]
  },
  {
   "cell_type": "code",
   "execution_count": 13,
   "metadata": {},
   "outputs": [],
   "source": [
    "bicycle_df['distance']=haversine_vectorize(bicycle_df['start_station_longitude'],bicycle_df['start_station_latitude'],bicycle_df['end_station_longitude'],bicycle_df['end_station_latitude'])"
   ]
  },
  {
   "cell_type": "code",
   "execution_count": 14,
   "metadata": {},
   "outputs": [],
   "source": [
    "bicycle_df.drop([\"start_station_id\",\"start_station_description\",\"start_station_latitude\",\"start_station_longitude\",\"end_station_id\",\"end_station_description\",\"end_station_latitude\",\"end_station_longitude\"],axis=1,inplace=True)"
   ]
  },
  {
   "cell_type": "code",
   "execution_count": 15,
   "metadata": {
    "scrolled": true
   },
   "outputs": [
    {
     "data": {
      "text/html": [
       "<div>\n",
       "<style scoped>\n",
       "    .dataframe tbody tr th:only-of-type {\n",
       "        vertical-align: middle;\n",
       "    }\n",
       "\n",
       "    .dataframe tbody tr th {\n",
       "        vertical-align: top;\n",
       "    }\n",
       "\n",
       "    .dataframe thead th {\n",
       "        text-align: right;\n",
       "    }\n",
       "</style>\n",
       "<table border=\"1\" class=\"dataframe\">\n",
       "  <thead>\n",
       "    <tr style=\"text-align: right;\">\n",
       "      <th></th>\n",
       "      <th>index</th>\n",
       "      <th>started_at</th>\n",
       "      <th>ended_at</th>\n",
       "      <th>duration</th>\n",
       "      <th>start_station_name</th>\n",
       "      <th>end_station_name</th>\n",
       "      <th>distance</th>\n",
       "    </tr>\n",
       "  </thead>\n",
       "  <tbody>\n",
       "    <tr>\n",
       "      <th>0</th>\n",
       "      <td>0</td>\n",
       "      <td>2019-04-02 22:18:47.926000+00:00</td>\n",
       "      <td>2019-04-02 22:24:25.427000+00:00</td>\n",
       "      <td>337</td>\n",
       "      <td>Schous plass</td>\n",
       "      <td>Grønlands torg</td>\n",
       "      <td>0.864666</td>\n",
       "    </tr>\n",
       "    <tr>\n",
       "      <th>1</th>\n",
       "      <td>1</td>\n",
       "      <td>2019-04-02 22:25:54.203000+00:00</td>\n",
       "      <td>2019-04-02 22:27:36.114000+00:00</td>\n",
       "      <td>101</td>\n",
       "      <td>Pilestredet</td>\n",
       "      <td>Pilestredet</td>\n",
       "      <td>0.000000</td>\n",
       "    </tr>\n",
       "    <tr>\n",
       "      <th>2</th>\n",
       "      <td>2</td>\n",
       "      <td>2019-04-02 22:26:39.308000+00:00</td>\n",
       "      <td>2019-04-02 22:31:59.445000+00:00</td>\n",
       "      <td>320</td>\n",
       "      <td>Kirkeveien</td>\n",
       "      <td>Marienlyst</td>\n",
       "      <td>0.286853</td>\n",
       "    </tr>\n",
       "    <tr>\n",
       "      <th>3</th>\n",
       "      <td>3</td>\n",
       "      <td>2019-04-03 03:09:58.992000+00:00</td>\n",
       "      <td>2019-04-03 03:12:00.589000+00:00</td>\n",
       "      <td>121</td>\n",
       "      <td>Hans Nielsen Hauges plass</td>\n",
       "      <td>Hans Nielsen Hauges plass</td>\n",
       "      <td>0.000000</td>\n",
       "    </tr>\n",
       "    <tr>\n",
       "      <th>4</th>\n",
       "      <td>4</td>\n",
       "      <td>2019-04-03 03:10:02.415000+00:00</td>\n",
       "      <td>2019-04-03 03:14:44.537000+00:00</td>\n",
       "      <td>282</td>\n",
       "      <td>Fredensborg</td>\n",
       "      <td>Akersgata</td>\n",
       "      <td>0.862568</td>\n",
       "    </tr>\n",
       "  </tbody>\n",
       "</table>\n",
       "</div>"
      ],
      "text/plain": [
       "   index                        started_at                          ended_at  \\\n",
       "0      0  2019-04-02 22:18:47.926000+00:00  2019-04-02 22:24:25.427000+00:00   \n",
       "1      1  2019-04-02 22:25:54.203000+00:00  2019-04-02 22:27:36.114000+00:00   \n",
       "2      2  2019-04-02 22:26:39.308000+00:00  2019-04-02 22:31:59.445000+00:00   \n",
       "3      3  2019-04-03 03:09:58.992000+00:00  2019-04-03 03:12:00.589000+00:00   \n",
       "4      4  2019-04-03 03:10:02.415000+00:00  2019-04-03 03:14:44.537000+00:00   \n",
       "\n",
       "   duration         start_station_name           end_station_name  distance  \n",
       "0       337               Schous plass             Grønlands torg  0.864666  \n",
       "1       101                Pilestredet                Pilestredet  0.000000  \n",
       "2       320                 Kirkeveien                 Marienlyst  0.286853  \n",
       "3       121  Hans Nielsen Hauges plass  Hans Nielsen Hauges plass  0.000000  \n",
       "4       282                Fredensborg                  Akersgata  0.862568  "
      ]
     },
     "execution_count": 15,
     "metadata": {},
     "output_type": "execute_result"
    }
   ],
   "source": [
    "\n",
    "bicycle_df.reset_index(inplace=True)\n",
    "bicycle_df.head()"
   ]
  },
  {
   "cell_type": "code",
   "execution_count": 16,
   "metadata": {
    "scrolled": true
   },
   "outputs": [],
   "source": [
    "bicycle_df.drop([\"index\"],axis=1,inplace=True)\n"
   ]
  },
  {
   "cell_type": "code",
   "execution_count": 17,
   "metadata": {},
   "outputs": [],
   "source": [
    "bicycle_df['duration_hour']=bicycle_df['duration']/3600"
   ]
  },
  {
   "cell_type": "code",
   "execution_count": 18,
   "metadata": {},
   "outputs": [
    {
     "data": {
      "text/html": [
       "<div>\n",
       "<style scoped>\n",
       "    .dataframe tbody tr th:only-of-type {\n",
       "        vertical-align: middle;\n",
       "    }\n",
       "\n",
       "    .dataframe tbody tr th {\n",
       "        vertical-align: top;\n",
       "    }\n",
       "\n",
       "    .dataframe thead th {\n",
       "        text-align: right;\n",
       "    }\n",
       "</style>\n",
       "<table border=\"1\" class=\"dataframe\">\n",
       "  <thead>\n",
       "    <tr style=\"text-align: right;\">\n",
       "      <th></th>\n",
       "      <th>duration</th>\n",
       "      <th>distance</th>\n",
       "      <th>duration_hour</th>\n",
       "    </tr>\n",
       "  </thead>\n",
       "  <tbody>\n",
       "    <tr>\n",
       "      <th>count</th>\n",
       "      <td>2.060876e+06</td>\n",
       "      <td>2.060876e+06</td>\n",
       "      <td>2.060876e+06</td>\n",
       "    </tr>\n",
       "    <tr>\n",
       "      <th>mean</th>\n",
       "      <td>7.990310e+02</td>\n",
       "      <td>1.358923e+00</td>\n",
       "      <td>2.219531e-01</td>\n",
       "    </tr>\n",
       "    <tr>\n",
       "      <th>std</th>\n",
       "      <td>5.004109e+03</td>\n",
       "      <td>8.754587e-01</td>\n",
       "      <td>1.390030e+00</td>\n",
       "    </tr>\n",
       "    <tr>\n",
       "      <th>min</th>\n",
       "      <td>6.100000e+01</td>\n",
       "      <td>0.000000e+00</td>\n",
       "      <td>1.694444e-02</td>\n",
       "    </tr>\n",
       "    <tr>\n",
       "      <th>25%</th>\n",
       "      <td>3.260000e+02</td>\n",
       "      <td>7.423251e-01</td>\n",
       "      <td>9.055556e-02</td>\n",
       "    </tr>\n",
       "    <tr>\n",
       "      <th>50%</th>\n",
       "      <td>5.140000e+02</td>\n",
       "      <td>1.188680e+00</td>\n",
       "      <td>1.427778e-01</td>\n",
       "    </tr>\n",
       "    <tr>\n",
       "      <th>75%</th>\n",
       "      <td>8.170000e+02</td>\n",
       "      <td>1.798915e+00</td>\n",
       "      <td>2.269444e-01</td>\n",
       "    </tr>\n",
       "    <tr>\n",
       "      <th>max</th>\n",
       "      <td>1.194151e+06</td>\n",
       "      <td>7.931245e+00</td>\n",
       "      <td>3.317086e+02</td>\n",
       "    </tr>\n",
       "  </tbody>\n",
       "</table>\n",
       "</div>"
      ],
      "text/plain": [
       "           duration      distance  duration_hour\n",
       "count  2.060876e+06  2.060876e+06   2.060876e+06\n",
       "mean   7.990310e+02  1.358923e+00   2.219531e-01\n",
       "std    5.004109e+03  8.754587e-01   1.390030e+00\n",
       "min    6.100000e+01  0.000000e+00   1.694444e-02\n",
       "25%    3.260000e+02  7.423251e-01   9.055556e-02\n",
       "50%    5.140000e+02  1.188680e+00   1.427778e-01\n",
       "75%    8.170000e+02  1.798915e+00   2.269444e-01\n",
       "max    1.194151e+06  7.931245e+00   3.317086e+02"
      ]
     },
     "execution_count": 18,
     "metadata": {},
     "output_type": "execute_result"
    }
   ],
   "source": [
    "bicycle_df.describe()"
   ]
  },
  {
   "cell_type": "code",
   "execution_count": null,
   "metadata": {},
   "outputs": [],
   "source": [
    "len(bicycle_df[bicycle_df['duration_hour']<=2.269444e-01]),len(bicycle_df)"
   ]
  },
  {
   "cell_type": "code",
   "execution_count": null,
   "metadata": {},
   "outputs": [],
   "source": [
    "bicycle_df[bicycle_df['duration_hour']<=30][\"duration_hour\"].hist(bins=50)"
   ]
  },
  {
   "cell_type": "code",
   "execution_count": null,
   "metadata": {},
   "outputs": [
    {
     "data": {
      "text/html": [
       "<div>\n",
       "<style scoped>\n",
       "    .dataframe tbody tr th:only-of-type {\n",
       "        vertical-align: middle;\n",
       "    }\n",
       "\n",
       "    .dataframe tbody tr th {\n",
       "        vertical-align: top;\n",
       "    }\n",
       "\n",
       "    .dataframe thead th {\n",
       "        text-align: right;\n",
       "    }\n",
       "</style>\n",
       "<table border=\"1\" class=\"dataframe\">\n",
       "  <thead>\n",
       "    <tr style=\"text-align: right;\">\n",
       "      <th></th>\n",
       "      <th>started_at</th>\n",
       "      <th>ended_at</th>\n",
       "      <th>duration</th>\n",
       "      <th>distance</th>\n",
       "      <th>Start_end</th>\n",
       "      <th>Value</th>\n",
       "    </tr>\n",
       "  </thead>\n",
       "  <tbody>\n",
       "    <tr>\n",
       "      <th>0</th>\n",
       "      <td>2019-04-02 22:18:47.926000+00:00</td>\n",
       "      <td>2019-04-02 22:24:25.427000+00:00</td>\n",
       "      <td>337</td>\n",
       "      <td>0.864666</td>\n",
       "      <td>start_station_name</td>\n",
       "      <td>Schous plass</td>\n",
       "    </tr>\n",
       "    <tr>\n",
       "      <th>1</th>\n",
       "      <td>2019-04-02 22:25:54.203000+00:00</td>\n",
       "      <td>2019-04-02 22:27:36.114000+00:00</td>\n",
       "      <td>101</td>\n",
       "      <td>0.000000</td>\n",
       "      <td>start_station_name</td>\n",
       "      <td>Pilestredet</td>\n",
       "    </tr>\n",
       "    <tr>\n",
       "      <th>2</th>\n",
       "      <td>2019-04-02 22:26:39.308000+00:00</td>\n",
       "      <td>2019-04-02 22:31:59.445000+00:00</td>\n",
       "      <td>320</td>\n",
       "      <td>0.286853</td>\n",
       "      <td>start_station_name</td>\n",
       "      <td>Kirkeveien</td>\n",
       "    </tr>\n",
       "    <tr>\n",
       "      <th>3</th>\n",
       "      <td>2019-04-03 03:09:58.992000+00:00</td>\n",
       "      <td>2019-04-03 03:12:00.589000+00:00</td>\n",
       "      <td>121</td>\n",
       "      <td>0.000000</td>\n",
       "      <td>start_station_name</td>\n",
       "      <td>Hans Nielsen Hauges plass</td>\n",
       "    </tr>\n",
       "    <tr>\n",
       "      <th>4</th>\n",
       "      <td>2019-04-03 03:10:02.415000+00:00</td>\n",
       "      <td>2019-04-03 03:14:44.537000+00:00</td>\n",
       "      <td>282</td>\n",
       "      <td>0.862568</td>\n",
       "      <td>start_station_name</td>\n",
       "      <td>Fredensborg</td>\n",
       "    </tr>\n",
       "  </tbody>\n",
       "</table>\n",
       "</div>"
      ],
      "text/plain": [
       "                         started_at                          ended_at  \\\n",
       "0  2019-04-02 22:18:47.926000+00:00  2019-04-02 22:24:25.427000+00:00   \n",
       "1  2019-04-02 22:25:54.203000+00:00  2019-04-02 22:27:36.114000+00:00   \n",
       "2  2019-04-02 22:26:39.308000+00:00  2019-04-02 22:31:59.445000+00:00   \n",
       "3  2019-04-03 03:09:58.992000+00:00  2019-04-03 03:12:00.589000+00:00   \n",
       "4  2019-04-03 03:10:02.415000+00:00  2019-04-03 03:14:44.537000+00:00   \n",
       "\n",
       "   duration  distance           Start_end                      Value  \n",
       "0       337  0.864666  start_station_name               Schous plass  \n",
       "1       101  0.000000  start_station_name                Pilestredet  \n",
       "2       320  0.286853  start_station_name                 Kirkeveien  \n",
       "3       121  0.000000  start_station_name  Hans Nielsen Hauges plass  \n",
       "4       282  0.862568  start_station_name                Fredensborg  "
      ]
     },
     "execution_count": 21,
     "metadata": {},
     "output_type": "execute_result"
    }
   ],
   "source": [
    "bicycle_melt=bicycle_df.melt(id_vars=[\"started_at\",\"ended_at\",\"duration\",\"distance\"],var_name=\"Start_end\",value_name=\"Value\")\n",
    "bicycle_melt.head()\n"
   ]
  },
  {
   "cell_type": "code",
   "execution_count": null,
   "metadata": {},
   "outputs": [
    {
     "data": {
      "image/png": "[encoded data removed]",
      "text/plain": [
       "<Figure size 360x360 with 1 Axes>"
      ]
     },
     "metadata": {
      "needs_background": "light"
     },
     "output_type": "display_data"
    }
   ],
   "source": [
    "g=sns.catplot(kind=\"count\",data=bicycle_melt,x=\"Value\",order=bicycle_melt.Value.value_counts().iloc[:5].index)\n",
    "g.set_xticklabels(rotation=30)\n",
    "plt.show()"
   ]
  },
  {
   "cell_type": "code",
   "execution_count": null,
   "metadata": {
    "scrolled": true
   },
   "outputs": [
    {
     "data": {
      "image/png": "[encoded data removed]",
      "text/plain": [
       "<Figure size 491.875x360 with 1 Axes>"
      ]
     },
     "metadata": {
      "needs_background": "light"
     },
     "output_type": "display_data"
    }
   ],
   "source": [
    "\n",
    "g=sns.catplot(kind=\"count\",data=bicycle_melt,x=\"Value\",hue=\"Start_end\",order=bicycle_melt.Value.value_counts().iloc[:5].index)\n",
    "g.set_xticklabels(rotation=30)\n",
    "plt.show()"
   ]
  },
  {
   "cell_type": "code",
   "execution_count": null,
   "metadata": {},
   "outputs": [],
   "source": [
    "bicycle_melt.started_at=pd.to_datetime(bicycle_melt.started_at)\n",
    "bicycle_melt.started_at=pd.to_datetime(bicycle_melt.started_at)"
   ]
  },
  {
   "cell_type": "code",
   "execution_count": null,
   "metadata": {},
   "outputs": [],
   "source": [
    "bicycle_melt[\"month\"]=bicycle_melt.started_at.dt.month.astype(int)"
   ]
  },
  {
   "cell_type": "code",
   "execution_count": null,
   "metadata": {},
   "outputs": [],
   "source": [
    "g=sns.catplot(kind=\"point\",data=bicycle_melt,x=\"Value\",order=bicycle_melt.Value.value_counts().iloc[:5].index,\\\n",
    "              hue=\"month\",height=8,aspect=True)\n",
    "g.set_xticklabels(rotation=70)\n",
    "plt.show()"
   ]
  }
 ],
 "metadata": {
  "kernelspec": {
   "display_name": "Python 3",
   "language": "python",
   "name": "python3"
  },
  "language_info": {
   "codemirror_mode": {
    "name": "ipython",
    "version": 3
   },
   "file_extension": ".py",
   "mimetype": "text/x-python",
   "name": "python",
   "nbconvert_exporter": "python",
   "pygments_lexer": "ipython3",
   "version": "3.7.1"
  }
 },
 "nbformat": 4,
 "nbformat_minor": 2
}
